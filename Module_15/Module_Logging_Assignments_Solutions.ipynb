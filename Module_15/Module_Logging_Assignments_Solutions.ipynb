{
 "cells": [
  {
   "cell_type": "markdown",
   "id": "273b54d1",
   "metadata": {},
   "source": [
    "# Module: Logging Assignments\n",
    "## Lesson: Logging\n",
    "### Assignment 1: Basic Logging\n",
    "\n",
    "1. Write a Python function to create a basic logger that logs messages to a file named `app.log`."
   ]
  },
  {
   "cell_type": "code",
   "execution_count": 23,
   "id": "14b59701",
   "metadata": {},
   "outputs": [],
   "source": [
    "import logging"
   ]
  },
  {
   "cell_type": "code",
   "execution_count": 24,
   "id": "312d8dfa",
   "metadata": {},
   "outputs": [],
   "source": [
    "def basic_logger():\n",
    "    logging.basicConfig(filename='app.log', level = logging.DEBUG)\n",
    "basic_logger()"
   ]
  },
  {
   "cell_type": "markdown",
   "id": "8712f09f",
   "metadata": {},
   "source": [
    "2. Modify the function to log messages of levels: DEBUG, INFO, WARNING, ERROR, and CRITICAL."
   ]
  },
  {
   "cell_type": "code",
   "execution_count": 25,
   "id": "38cd201f",
   "metadata": {},
   "outputs": [
    {
     "name": "stderr",
     "output_type": "stream",
     "text": [
      "2025-03-11 09:30:17,045 - root - DEBUG - This is a debug message\n",
      "2025-03-11 09:30:17,053 - root - INFO - This is an info message\n",
      "2025-03-11 09:30:17,053 - root - WARNING - This is a warning message\n",
      "2025-03-11 09:30:17,053 - root - ERROR - This is an error message\n",
      "2025-03-11 09:30:17,060 - root - CRITICAL - This is a critical message\n"
     ]
    }
   ],
   "source": [
    "def dif_basic_logger():\n",
    "    logging.basicConfig(filename= 'app.log', level = logging.DEBUG)\n",
    "    logging.debug('This is a debug message')\n",
    "    logging.info('This is an info message')\n",
    "    logging.warning('This is a warning message')\n",
    "    logging.error('This is an error message')\n",
    "    logging.critical('This is a critical message')\n",
    "\n",
    "dif_basic_logger()"
   ]
  },
  {
   "cell_type": "markdown",
   "id": "be05f004",
   "metadata": {},
   "source": [
    "### Assignment 2: Logging with Different Handlers\n",
    "\n",
    "1. Write a Python function to create a logger that logs messages to both a file named `app.log` and the console."
   ]
  },
  {
   "cell_type": "code",
   "execution_count": 26,
   "id": "a32341e3",
   "metadata": {},
   "outputs": [],
   "source": [
    "'''\n",
    "creaating a logger by initializing get logger class\n",
    "setting the level of the logger as DEBUG\n",
    "\n",
    "creating a file handler to write the logs to the file and passing it the name of the file to be written to\n",
    "creating a console handler using  stream handler\n",
    "\n",
    "each creation should be set a logging level \n",
    "so for the file handler and cosole handler both are passed logging.DEBUG param\n",
    "\n",
    "creating a formatter for the logging file i.e in which format will  be the logs be added using logging.Formatter\n",
    "\n",
    "using the formatter method on both the handlers using setFormatter method\n",
    "\n",
    "initializing the handler using both the handlers with addHandler method\n",
    "'''\n",
    "def logger_with_handlers():\n",
    "    logger = logging.getLogger('my_logger')\n",
    "    logger.setLevel(logging.DEBUG)\n",
    "\n",
    "    file_handler = logging.FileHandler('app.log')\n",
    "    console_handler = logging.StreamHandler()\n",
    "\n",
    "    file_handler.setLevel(logging.DEBUG)\n",
    "    console_handler.setLevel(logging.DEBUG)\n",
    "\n",
    "    formatter = logging.Formatter('%(asctime)s - %(name)s - %(levelname)s - %(message)s')\n",
    "    file_handler.setFormatter(formatter)\n",
    "    console_handler.setFormatter(formatter)\n",
    "\n",
    "    logger.addHandler(file_handler)\n",
    "    logger.addHandler(console_handler)\n",
    "\n",
    "\n",
    "# Test the function\n",
    "logger_with_handlers()"
   ]
  },
  {
   "cell_type": "markdown",
   "id": "20bd45dc",
   "metadata": {},
   "source": [
    "2. Modify the function to use different logging levels for the file and console handlers."
   ]
  },
  {
   "cell_type": "code",
   "execution_count": 27,
   "id": "7efa0dc2",
   "metadata": {},
   "outputs": [],
   "source": [
    "def logger_with_handlers():\n",
    "    logger = logging.getLogger('my_logger')\n",
    "    logger.setLevel(logging.DEBUG)\n",
    "\n",
    "    file_handler = logging.FileHandler('app.log')\n",
    "    console_handler = logging.StreamHandler()\n",
    "\n",
    "    file_handler.setLevel(logging.DEBUG)\n",
    "    console_handler.setLevel(logging.DEBUG)\n",
    "\n",
    "    formatter = logging.Formatter('%(asctime)s - %(name)s - %(levelname)s - %(messagae)s')\n",
    "    file_handler.setFormatter(formatter)\n",
    "    console_handler.setFormatter(formatter)\n",
    "\n",
    "    logger.addHandler(file_handler)\n",
    "    logger.addHandler(console_handler)\n",
    "\n",
    "    logger.debug('This is a debug messsage')\n",
    "    logger.info('This is a info message')\n",
    "    logger.warning('This is a warning message')\n",
    "    logger.error('This is a error message')\n",
    "    logger.critical('This is a critical message')\n",
    "\n",
    "\n",
    "logger_with_handlers()"
   ]
  },
  {
   "cell_type": "markdown",
   "id": "4d458ee7",
   "metadata": {},
   "source": [
    "### Assignment 3: Formatting Log Messages\n",
    "\n",
    "1. Write a Python function to create a logger with a custom log message format that includes the timestamp, logging level, and message."
   ]
  },
  {
   "cell_type": "code",
   "execution_count": 28,
   "id": "cc3a8c63",
   "metadata": {},
   "outputs": [],
   "source": [
    "def logger_with_custom_format():\n",
    "    logger = logging.getLogger('my_logger')\n",
    "    logger.setLevel(logging.DEBUG)\n",
    "\n",
    "    file_handler = logging.FileHandler('app.log')\n",
    "    console_handler = logging.StreamHandler()\n",
    "\n",
    "    file_handler.setLevel(logging.DEBUG)\n",
    "    console_handler.setLevel(logging.DEBUG)\n",
    "\n",
    "    formatter = logging.Formatter('%(asctime)s - %(levelname)s - %(message)s')\n",
    "    file_handler.setFormatter(formatter)\n",
    "    console_handler.setFormatter(formatter)\n",
    "\n",
    "    logger.addHandler(file_handler)\n",
    "    logger.addHandler(console_handler)\n",
    "\n",
    "    logger.debug('This is a debug message')\n",
    "    logger.info('This is an info message')\n",
    "    logger.warning('This is a warning message')\n",
    "    logger.critical('Thid is critical message')\n",
    "    logger.error('This is a error messgae')\n",
    "\n",
    "logger_with_custom_format()"
   ]
  },
  {
   "cell_type": "markdown",
   "id": "e1af4696",
   "metadata": {},
   "source": [
    ". Modify the function to use different formats for the file and console handlers."
   ]
  },
  {
   "cell_type": "code",
   "execution_count": 29,
   "id": "768938fa",
   "metadata": {},
   "outputs": [],
   "source": [
    "def different_hadnler_formatter():\n",
    "    logger = logging.getLogger('my_logger')\n",
    "    logger.setLevel(logging.DEBUG)\n",
    "\n",
    "    file_handler = logging.FileHandler('app.log')\n",
    "    console_handler = logging.StreamHandler()\n",
    "    file_handler.setLevel(logging.DEBUG)\n",
    "    console_handler.setLevel(logging.DEBUG)\n",
    "\n",
    "    file_formattter = logging.Formatter('%(asctime)s - %(levelname)s - %(messagge)s')\n",
    "    console_formatter =  logging.Formatter('%(name)s - %(levelname)s - %(message)s')\n",
    "\n",
    "    file_handler.setFormatter(file_formattter)\n",
    "    console_handler.setFormatter(console_formatter)\n",
    "\n",
    "    logger.addHandler(file_handler)\n",
    "    logger.addHandler(console_handler)\n",
    "\n",
    "    logger.debug('This is a debug message')\n",
    "    logger.info('This is an info message')"
   ]
  },
  {
   "cell_type": "markdown",
   "id": "44af6f4f",
   "metadata": {},
   "source": [
    "### Assignment 4: Rotating Log Files\n",
    "\n",
    "1. Write a Python function to create a logger that uses a rotating file handler, which creates a new log file when the current log file reaches a certain size."
   ]
  },
  {
   "cell_type": "code",
   "execution_count": 30,
   "id": "ab5b126c",
   "metadata": {},
   "outputs": [],
   "source": [
    "from logging.handlers import RotatingFileHandler\n",
    "\n",
    "def rotating_file_handler():\n",
    "    logger = logging.getLogger('rotating_handler')\n",
    "    logger.setLevel(logging.DEBUG)\n",
    "\n",
    "\n",
    "    rotating_file = RotatingFileHandler('rotating_app.log',maxBytes =2000 , backupCount = 5 )\n",
    "    formatter = logging.Formatter('%(asctime)s - %(levelname)s - %(name)s - %(message)s')\n",
    "    rotating_file.setFormatter(formatter)\n",
    "    logger.addHandler(rotating_file)\n",
    "\n",
    "    for i in range(100):\n",
    "        logger.debug('This is a debug message {}'.format(i))\n",
    "    \n",
    "rotating_file_handler()"
   ]
  },
  {
   "cell_type": "markdown",
   "id": "b400e984",
   "metadata": {},
   "source": [
    "2. Modify the function to keep a specified number of backup log files."
   ]
  },
  {
   "cell_type": "code",
   "execution_count": 31,
   "id": "00b2e088",
   "metadata": {},
   "outputs": [],
   "source": [
    "# The modification is already included in the above function with backupCount=5."
   ]
  },
  {
   "cell_type": "markdown",
   "id": "b2f64374",
   "metadata": {},
   "source": [
    "### Assignment 5: Logging Exceptions\n",
    "\n",
    "1. Write a Python function that logs an exception stack trace to a log file when an exception occurs."
   ]
  },
  {
   "cell_type": "code",
   "execution_count": 32,
   "id": "5c1b48ad",
   "metadata": {},
   "outputs": [],
   "source": [
    "def log_exception():\n",
    "    logger = logging.getLogger('exception_logger')\n",
    "    logger.setLevel(logging.ERROR)\n",
    "    \n",
    "    file_handler = logging.FileHandler('exception_app.log')\n",
    "    formatter = logging.Formatter('%(asctime)s - %(name)s - %(levelname)s - %(message)s')\n",
    "    file_handler.setFormatter(formatter)\n",
    "    \n",
    "    logger.addHandler(file_handler)\n",
    "    \n",
    "    try:\n",
    "        1 / 0\n",
    "    except Exception as e:\n",
    "        logger.exception(\"An exception occurred\")\n",
    "\n",
    "# Test the function\n",
    "log_exception()"
   ]
  },
  {
   "cell_type": "markdown",
   "id": "81e77681",
   "metadata": {},
   "source": [
    "2. Modify the function to log the stack trace at the ERROR level."
   ]
  },
  {
   "cell_type": "code",
   "execution_count": 33,
   "id": "00c200a2",
   "metadata": {},
   "outputs": [],
   "source": [
    "# The modification is already included in the above function."
   ]
  },
  {
   "cell_type": "markdown",
   "id": "edd7e24a",
   "metadata": {},
   "source": [
    "### Assignment 6: Contextual Logging\n",
    "\n",
    "1. Write a Python function to create a logger that includes contextual information (e.g., function name, line number) in the log messages."
   ]
  },
  {
   "cell_type": "code",
   "execution_count": 34,
   "id": "878410f6",
   "metadata": {},
   "outputs": [],
   "source": [
    "def logger_with_context():\n",
    "    logger = logging.getLogger('context_logger')\n",
    "    logger.setLevel(logging.DEBUG)\n",
    "    \n",
    "    file_handler = logging.FileHandler('context_app.log')\n",
    "    formatter = logging.Formatter('%(asctime)s - %(name)s - %(levelname)s - %(message)s - %(funcName)s - %(lineno)d')\n",
    "    file_handler.setFormatter(formatter)\n",
    "    \n",
    "    logger.addHandler(file_handler)\n",
    "    \n",
    "    def test_func():\n",
    "        logger.debug('This is a debug message')\n",
    "        logger.info('This is an info message')\n",
    "        logger.warning('This is a warning message')\n",
    "        logger.error('This is an error message')\n",
    "        logger.critical('This is a critical message')\n",
    "    \n",
    "    test_func()\n",
    "\n",
    "# Test the function\n",
    "logger_with_context()"
   ]
  },
  {
   "cell_type": "markdown",
   "id": "483e33bb",
   "metadata": {},
   "source": [
    "2. Modify the function to include additional contextual information (e.g., user ID, session ID)."
   ]
  },
  {
   "cell_type": "code",
   "execution_count": 35,
   "id": "db7ce9fb",
   "metadata": {},
   "outputs": [],
   "source": [
    "def logger_with_additional_context(user_id, session_id):\n",
    "    logger = logging.getLogger('additional_context_logger')\n",
    "    logger.setLevel(logging.DEBUG)\n",
    "    \n",
    "    file_handler = logging.FileHandler('additional_context_app.log')\n",
    "    formatter = logging.Formatter('%(asctime)s - %(name)s - %(levelname)s - %(message)s - %(funcName)s - %(lineno)d - UserID: %(user_id)s - SessionID: %(session_id)s')\n",
    "    file_handler.setFormatter(formatter)\n",
    "    \n",
    "    logger.addHandler(file_handler)\n",
    "    \n",
    "    extra = {'user_id': user_id, 'session_id': session_id}\n",
    "    \n",
    "    def test_func():\n",
    "        logger.debug('This is a debug message', extra=extra)\n",
    "        logger.info('This is an info message', extra=extra)\n",
    "        logger.warning('This is a warning message', extra=extra)\n",
    "        logger.error('This is an error message', extra=extra)\n",
    "        logger.critical('This is a critical message', extra=extra)\n",
    "    \n",
    "    test_func()\n",
    "\n",
    "# Test the function\n",
    "logger_with_additional_context('user123', 'session456')"
   ]
  },
  {
   "cell_type": "markdown",
   "id": "1c23b765",
   "metadata": {},
   "source": [
    "### Assignment 7: Configuring Logging with a Dictionary\n",
    "\n",
    "1. Write a Python function to configure logging using a dictionary. The configuration should include handlers for both file and console logging."
   ]
  },
  {
   "cell_type": "code",
   "execution_count": 36,
   "id": "398203cb",
   "metadata": {},
   "outputs": [
    {
     "name": "stderr",
     "output_type": "stream",
     "text": [
      "2025-03-11 09:30:17,324 - root - DEBUG - This is a debug message\n",
      "2025-03-11 09:30:17,330 - root - INFO - This is an info message\n",
      "2025-03-11 09:30:17,330 - root - WARNING - This is a warning message\n",
      "2025-03-11 09:30:17,330 - root - ERROR - This is an error message\n",
      "2025-03-11 09:30:17,330 - root - CRITICAL - This is a critical message\n"
     ]
    }
   ],
   "source": [
    "import logging.config\n",
    "\n",
    "def configure_logging_with_dict():\n",
    "    log_config = {\n",
    "        'version': 1,\n",
    "        'formatters': {\n",
    "            'default': {\n",
    "                'format': '%(asctime)s - %(name)s - %(levelname)s - %(message)s'\n",
    "            },\n",
    "            'detailed': {\n",
    "                'format': '%(asctime)s - %(name)s - %(levelname)s - %(message)s - %(funcName)s - %(lineno)d'\n",
    "            }\n",
    "        },\n",
    "        'handlers': {\n",
    "            'file': {\n",
    "                'class': 'logging.FileHandler',\n",
    "                'filename': 'dict_config_app.log',\n",
    "                'formatter': 'detailed',\n",
    "                'level': 'DEBUG'\n",
    "            },\n",
    "            'console': {\n",
    "                'class': 'logging.StreamHandler',\n",
    "                'formatter': 'default',\n",
    "                'level': 'DEBUG'\n",
    "            }\n",
    "        },\n",
    "        'root': {\n",
    "            'handlers': ['file', 'console'],\n",
    "            'level': 'DEBUG'\n",
    "        }\n",
    "    }\n",
    "    logging.config.dictConfig(log_config)\n",
    "    logger = logging.getLogger('')\n",
    "    logger.debug('This is a debug message')\n",
    "    logger.info('This is an info message')\n",
    "    logger.warning('This is a warning message')\n",
    "    logger.error('This is an error message')\n",
    "    logger.critical('This is a critical message')\n",
    "\n",
    "# Test the function\n",
    "configure_logging_with_dict()"
   ]
  },
  {
   "cell_type": "markdown",
   "id": "22214e47",
   "metadata": {},
   "source": [
    "2. Modify the dictionary to include different logging levels and formats for each handler."
   ]
  },
  {
   "cell_type": "code",
   "execution_count": 37,
   "id": "d1c831fe",
   "metadata": {},
   "outputs": [],
   "source": [
    "# The modification is already included in the above function."
   ]
  },
  {
   "cell_type": "markdown",
   "id": "5069afb9",
   "metadata": {},
   "source": [
    "### Assignment 8: Logging in a Multi-Module Application\n",
    "\n",
    "1. Write a Python script that sets up logging for a multi-module application. Each module should have its own logger."
   ]
  },
  {
   "cell_type": "markdown",
   "id": "38d5e329",
   "metadata": {},
   "source": [
    "#### File: `main.py`"
   ]
  },
  {
   "cell_type": "code",
   "execution_count": 38,
   "id": "35139d98",
   "metadata": {},
   "outputs": [],
   "source": [
    "import logging\n",
    "from module_a import module_a_function\n",
    "from module_b import module_b_function\n",
    "\n",
    "def setup_logging():\n",
    "    log_config = {\n",
    "        'version': 1,\n",
    "        'formatters': {\n",
    "            'default': {\n",
    "                'format': '%(asctime)s - %(name)s - %(levelname)s - %(message)s'\n",
    "            }\n",
    "        },\n",
    "        'handlers': {\n",
    "            'file': {\n",
    "                'class': 'logging.FileHandler',\n",
    "                'filename': 'multi_module_app.log',\n",
    "                'formatter': 'default',\n",
    "                'level': 'DEBUG'\n",
    "            },\n",
    "            'console': {\n",
    "                'class': 'logging.StreamHandler',\n",
    "                'formatter': 'default',\n",
    "                'level': 'DEBUG'\n",
    "            }\n",
    "        },\n",
    "        'root': {\n",
    "            'handlers': ['file', 'console'],\n",
    "            'level': 'DEBUG'\n",
    "        }\n",
    "    }\n",
    "    logging.config.dictConfig(log_config)\n",
    "\n",
    "# Main script\n",
    "if __name__ == '__main__':\n",
    "    setup_logging()\n",
    "    logger = logging.getLogger(__name__)\n",
    "    logger.info('Main module started')\n",
    "    module_a_function()\n",
    "    module_b_function()\n",
    "    logger.info('Main module finished')"
   ]
  },
  {
   "cell_type": "markdown",
   "id": "32d2db83",
   "metadata": {},
   "source": [
    "#### File: `module_a.py`"
   ]
  },
  {
   "cell_type": "code",
   "execution_count": 39,
   "id": "d4bd7613",
   "metadata": {},
   "outputs": [],
   "source": [
    "import logging\n",
    "\n",
    "def module_a_function():\n",
    "    logger = logging.getLogger(__name__)\n",
    "    logger.info('Module A function started')\n",
    "    logger.debug('This is a debug message from Module A')\n",
    "    logger.info('Module A function finished')"
   ]
  },
  {
   "cell_type": "markdown",
   "id": "920ae11d",
   "metadata": {},
   "source": [
    "#### File: `module_b.py`"
   ]
  },
  {
   "cell_type": "code",
   "execution_count": 40,
   "id": "b0efafa4",
   "metadata": {},
   "outputs": [],
   "source": [
    "import logging\n",
    "\n",
    "def module_b_function():\n",
    "    logger = logging.getLogger(__name__)\n",
    "    logger.info('Module B function started')\n",
    "    logger.debug('This is a debug message from Module B')\n",
    "    logger.info('Module B function finished')"
   ]
  },
  {
   "cell_type": "markdown",
   "id": "3f503c23",
   "metadata": {},
   "source": [
    "2. Modify the script to propagate log messages from each module's logger to a root logger that handles logging to a file."
   ]
  },
  {
   "cell_type": "code",
   "execution_count": 41,
   "id": "a5e141e1",
   "metadata": {},
   "outputs": [],
   "source": [
    "# The modification is already included in the above scripts. Each module's logger messages propagate to the root logger."
   ]
  },
  {
   "cell_type": "markdown",
   "id": "e09c6e5b",
   "metadata": {},
   "source": [
    "### Assignment 9: Logging Performance\n",
    "\n",
    "1. Write a Python script to benchmark the performance of logging with different handlers (e.g., file handler, console handler, rotating file handler)."
   ]
  },
  {
   "cell_type": "code",
   "execution_count": 42,
   "id": "e8bd3dac",
   "metadata": {},
   "outputs": [
    {
     "name": "stdout",
     "output_type": "stream",
     "text": [
      "File handler logging time: 0.0 seconds\n",
      "Console handler logging time: 0.0 seconds\n",
      "Rotating file handler logging time: 0.0 seconds\n"
     ]
    }
   ],
   "source": [
    "import logging\n",
    "import time\n",
    "from logging.handlers import RotatingFileHandler\n",
    "\n",
    "def benchmark_logging_performance():\n",
    "    logger = logging.getLogger('performance_logger')\n",
    "    logger.setLevel(logging.DEBUG)\n",
    "\n",
    "    # File handler\n",
    "    file_handler = logging.FileHandler('performance_file.log')\n",
    "    file_handler.setLevel(logging.DEBUG)\n",
    "    logger.addHandler(file_handler)\n",
    "\n",
    "    start_time = time.time()\n",
    "    for i in range(100):\n",
    "        logger.debug('This is a debug message')\n",
    "    end_time = time.time()\n",
    "    print('File handler logging time: {} seconds'.format(end_time - start_time))\n",
    "    logger.removeHandler(file_handler)\n",
    "\n",
    "    # Console handler\n",
    "    console_handler = logging.StreamHandler()\n",
    "    console_handler.setLevel(logging.DEBUG)\n",
    "    logger.addHandler(console_handler)\n",
    "\n",
    "    start_time = time.time()\n",
    "    for i in range(100):\n",
    "        logger.debug('This is a debug message')\n",
    "    end_time = time.time()\n",
    "    print('Console handler logging time: {} seconds'.format(end_time - start_time))\n",
    "    logger.removeHandler(console_handler)\n",
    "\n",
    "    # Rotating file handler\n",
    "    rotating_handler = RotatingFileHandler('performance_rotating.log', maxBytes=2000, backupCount=5)\n",
    "    rotating_handler.setLevel(logging.DEBUG)\n",
    "    logger.addHandler(rotating_handler)\n",
    "\n",
    "    start_time = time.time()\n",
    "    for i in range(100):\n",
    "        logger.debug('This is a debug message')\n",
    "    end_time = time.time()\n",
    "    print('Rotating file handler logging time: {} seconds'.format(end_time - start_time))\n",
    "    logger.removeHandler(rotating_handler)\n",
    "\n",
    "# Test the function\n",
    "benchmark_logging_performance()"
   ]
  },
  {
   "cell_type": "markdown",
   "id": "9ab3cf66",
   "metadata": {},
   "source": [
    "2. Modify the script to compare the performance of logging with and without message formatting."
   ]
  },
  {
   "cell_type": "code",
   "execution_count": 43,
   "id": "9caf1d4e",
   "metadata": {},
   "outputs": [
    {
     "name": "stdout",
     "output_type": "stream",
     "text": [
      "File handler logging time without formatting: 0.0 seconds\n",
      "File handler logging time with formatting: 0.0 seconds\n"
     ]
    }
   ],
   "source": [
    "def benchmark_logging_formatting_performance():\n",
    "    logger = logging.getLogger('formatting_performance_logger')\n",
    "    logger.setLevel(logging.DEBUG)\n",
    "\n",
    "    # File handler without formatting\n",
    "    file_handler = logging.FileHandler('performance_no_format.log')\n",
    "    file_handler.setLevel(logging.DEBUG)\n",
    "    logger.addHandler(file_handler)\n",
    "\n",
    "    start_time = time.time()\n",
    "    for i in range(100):\n",
    "        logger.debug('This is a debug message')\n",
    "    end_time = time.time()\n",
    "    print('File handler logging time without formatting: {} seconds'.format(end_time - start_time))\n",
    "    logger.removeHandler(file_handler)\n",
    "\n",
    "    # File handler with formatting\n",
    "    file_handler = logging.FileHandler('performance_with_format.log')\n",
    "    file_handler.setLevel(logging.DEBUG)\n",
    "    formatter = logging.Formatter('%(asctime)s - %(name)s - %(levelname)s - %(message)s')\n",
    "    file_handler.setFormatter(formatter)\n",
    "    logger.addHandler(file_handler)\n",
    "\n",
    "    start_time = time.time()\n",
    "    for i in range(100):\n",
    "        logger.debug('This is a debug message')\n",
    "    end_time = time.time()\n",
    "    print('File handler logging time with formatting: {} seconds'.format(end_time - start_time))\n",
    "    logger.removeHandler(file_handler)\n",
    "\n",
    "# Test the function\n",
    "benchmark_logging_formatting_performance()"
   ]
  },
  {
   "cell_type": "markdown",
   "id": "aa0b9501",
   "metadata": {},
   "source": [
    "### Assignment 10: Advanced Logging Configuration\n",
    "\n",
    "1. Write a Python function to configure logging using an external configuration file (e.g., `logging.conf`). The configuration should include handlers for file and console logging."
   ]
  },
  {
   "cell_type": "markdown",
   "id": "80b13033",
   "metadata": {},
   "source": [
    "#### File: `logging.conf`"
   ]
  },
  {
   "cell_type": "code",
   "execution_count": null,
   "id": "693c8646",
   "metadata": {},
   "outputs": [],
   "source": [
    "[loggers]\n",
    "keys=root\n",
    "\n",
    "[handlers]\n",
    "keys=fileHandler,consoleHandler\n",
    "\n",
    "[formatters]\n",
    "keys=defaultFormatter\n",
    "\n",
    "[logger_root]\n",
    "level=DEBUG\n",
    "handlers=fileHandler,consoleHandler\n",
    "\n",
    "[handler_fileHandler]\n",
    "class=FileHandler\n",
    "level=DEBUG\n",
    "formatter=defaultFormatter\n",
    "args=('advanced_logging_app.log', 'a')\n",
    "\n",
    "[handler_consoleHandler]\n",
    "class=StreamHandler\n",
    "level=DEBUG\n",
    "formatter=defaultFormatter\n",
    "args=(sys.stdout,)\n",
    "\n",
    "[formatter_defaultFormatter]\n",
    "format=%(asctime)s - %(name)s - %(levelname)s - %(message)s"
   ]
  },
  {
   "cell_type": "markdown",
   "id": "3e792e3f",
   "metadata": {},
   "source": [
    "#### File: `main.py`"
   ]
  },
  {
   "cell_type": "code",
   "execution_count": null,
   "id": "c563783e",
   "metadata": {},
   "outputs": [],
   "source": [
    "import logging.config\n",
    "\n",
    "def setup_logging_from_file():\n",
    "    logging.config.fileConfig('logging.conf')\n",
    "    logger = logging.getLogger(__name__)\n",
    "    logger.debug('This is a debug message')\n",
    "    logger.info('This is an info message')\n",
    "    logger.warning('This is a warning message')\n",
    "    logger.error('This is an error message')\n",
    "    logger.critical('This is a critical message')\n",
    "\n",
    "# Test the function\n",
    "setup_logging_from_file()"
   ]
  },
  {
   "cell_type": "markdown",
   "id": "03dd9470",
   "metadata": {},
   "source": [
    "2. Modify the configuration file to use different logging levels and formats for each handler."
   ]
  },
  {
   "cell_type": "code",
   "execution_count": null,
   "id": "0d86f933",
   "metadata": {},
   "outputs": [],
   "source": [
    "# The modification is already included in the above configuration file."
   ]
  }
 ],
 "metadata": {
  "kernelspec": {
   "display_name": "base",
   "language": "python",
   "name": "python3"
  },
  "language_info": {
   "codemirror_mode": {
    "name": "ipython",
    "version": 3
   },
   "file_extension": ".py",
   "mimetype": "text/x-python",
   "name": "python",
   "nbconvert_exporter": "python",
   "pygments_lexer": "ipython3",
   "version": "3.8.8"
  }
 },
 "nbformat": 4,
 "nbformat_minor": 5
}
