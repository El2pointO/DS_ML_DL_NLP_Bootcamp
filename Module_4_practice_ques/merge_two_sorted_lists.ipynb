{
 "cells": [
  {
   "cell_type": "markdown",
   "metadata": {},
   "source": [
    "Merge Two Sorted Lists\n",
    "\n",
    "You are given two sorted lists of integers. Write a Python function to merge these two sorted lists into one sorted list. The resulting list should also be in non-decreasing order.\n",
    "\n",
    "Parameters:\n",
    "\n",
    "list1 (List of integers): The first sorted list.\n",
    "\n",
    "list2 (List of integers): The second sorted list.\n",
    "\n",
    "Returns:\n",
    "\n",
    "A single list of integers, containing all elements from list1 and list2, sorted in non-decreasing order."
   ]
  },
  {
   "cell_type": "code",
   "execution_count": 1,
   "metadata": {},
   "outputs": [],
   "source": [
    "def merge_two_sorted_lists(list1, list2):\n",
    "    i,j = 0,0 \n",
    "    merged_list = []\n",
    "    while i < len(list1) and j < len(list2):\n",
    "        if list1[i] < list2[j]:\n",
    "            merged_list.append(list1[i])\n",
    "            i += 1\n",
    "        else:\n",
    "            merged_list.append(list2[j])\n",
    "            j += 1\n",
    "    while i < len(list1):\n",
    "        merged_list.append(list1[i])\n",
    "        i+=1 \n",
    "    \n",
    "    while j < len(list2):\n",
    "        merged_list.append(list2[j])\n",
    "        j+=1 \n",
    "    \n",
    "    return merged_list\n",
    "        "
   ]
  }
 ],
 "metadata": {
  "kernelspec": {
   "display_name": "base",
   "language": "python",
   "name": "python3"
  },
  "language_info": {
   "codemirror_mode": {
    "name": "ipython",
    "version": 3
   },
   "file_extension": ".py",
   "mimetype": "text/x-python",
   "name": "python",
   "nbconvert_exporter": "python",
   "pygments_lexer": "ipython3",
   "version": "3.8.8"
  }
 },
 "nbformat": 4,
 "nbformat_minor": 2
}
