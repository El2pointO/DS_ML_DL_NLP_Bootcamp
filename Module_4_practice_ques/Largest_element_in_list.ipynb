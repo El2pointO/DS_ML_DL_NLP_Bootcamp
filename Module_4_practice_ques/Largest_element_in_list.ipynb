{
 "cells": [
  {
   "cell_type": "markdown",
   "metadata": {},
   "source": [
    "Largest Element in a List\n",
    "Find the Largest Element in a List\n",
    "\n",
    "Write a Python function that finds and returns the largest element in a given list of integers.\n",
    "\n",
    "Parameters:\n",
    "\n",
    "numbers (List of integers): The input list containing integers.\n",
    "\n",
    "Returns:\n",
    "\n",
    "An integer representing the largest element in the input list."
   ]
  },
  {
   "cell_type": "code",
   "execution_count": 1,
   "metadata": {},
   "outputs": [],
   "source": [
    "def find_largest(numbers):\n",
    "    max_num = float('-inf')\n",
    "    for nums in numbers:\n",
    "        if nums > max_num:\n",
    "            max_num = nums\n",
    "    return max_num"
   ]
  }
 ],
 "metadata": {
  "kernelspec": {
   "display_name": "base",
   "language": "python",
   "name": "python3"
  },
  "language_info": {
   "codemirror_mode": {
    "name": "ipython",
    "version": 3
   },
   "file_extension": ".py",
   "mimetype": "text/x-python",
   "name": "python",
   "nbconvert_exporter": "python",
   "pygments_lexer": "ipython3",
   "version": "3.8.8"
  }
 },
 "nbformat": 4,
 "nbformat_minor": 2
}
