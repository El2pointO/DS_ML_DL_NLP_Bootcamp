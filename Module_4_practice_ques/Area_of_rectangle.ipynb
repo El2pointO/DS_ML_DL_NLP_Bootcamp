{
 "cells": [
  {
   "cell_type": "markdown",
   "metadata": {},
   "source": [
    "You are given the length and breadth of a rectangle. Your task is to compute and return the area of the rectangle.\n",
    "\n",
    "Formula:\n",
    "\n",
    "* To calculate the area of a rectangle:\n",
    "\n",
    "Area=length×breadth"
   ]
  },
  {
   "cell_type": "code",
   "execution_count": 1,
   "metadata": {},
   "outputs": [],
   "source": [
    "def area_of_rectangle(length, breadth):\n",
    "    return length * breadth"
   ]
  }
 ],
 "metadata": {
  "kernelspec": {
   "display_name": "base",
   "language": "python",
   "name": "python3"
  },
  "language_info": {
   "codemirror_mode": {
    "name": "ipython",
    "version": 3
   },
   "file_extension": ".py",
   "mimetype": "text/x-python",
   "name": "python",
   "nbconvert_exporter": "python",
   "pygments_lexer": "ipython3",
   "version": "3.8.8"
  }
 },
 "nbformat": 4,
 "nbformat_minor": 2
}
