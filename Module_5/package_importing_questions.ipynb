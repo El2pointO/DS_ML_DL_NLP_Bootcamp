{
 "cells": [
  {
   "cell_type": "markdown",
   "id": "55e46239",
   "metadata": {},
   "source": [
    "# Module 5: Modules and Packages Assignments\n",
    "## Lesson 5.1: Importing Modules\n",
    "### Assignment 1: Importing and Using Modules\n",
    "\n",
    "Import the `math` module and use it to calculate the square root of 25 and the sine of 90 degrees."
   ]
  },
  {
   "cell_type": "code",
   "execution_count": 1,
   "id": "bb2e1d54",
   "metadata": {},
   "outputs": [
    {
     "name": "stdout",
     "output_type": "stream",
     "text": [
      "5.0\n",
      "1.0\n"
     ]
    }
   ],
   "source": [
    "import math\n",
    "\n",
    "print(math.sqrt(25))  \n",
    "print(math.sin(math.radians(90))) "
   ]
  },
  {
   "cell_type": "markdown",
   "id": "12ab4222",
   "metadata": {},
   "source": [
    "### Assignment 2: Aliasing Modules\n",
    "\n",
    "Import the `datetime` module with an alias and use it to print the current date and time."
   ]
  },
  {
   "cell_type": "code",
   "execution_count": null,
   "id": "d3930852",
   "metadata": {},
   "outputs": [
    {
     "name": "stdout",
     "output_type": "stream",
     "text": [
      "2025-03-03 17:21:24.556532\n"
     ]
    }
   ],
   "source": [
    "import datetime as dt\n",
    "print(dt.datetime.now())"
   ]
  },
  {
   "cell_type": "markdown",
   "id": "c0e53e1b",
   "metadata": {},
   "source": [
    "### Assignment 3: Importing Specific Functions\n",
    "\n",
    "Import the `randint` function from the `random` module and use it to generate a random integer between 1 and 100."
   ]
  },
  {
   "cell_type": "code",
   "execution_count": 4,
   "id": "a24c5ce4",
   "metadata": {},
   "outputs": [
    {
     "name": "stdout",
     "output_type": "stream",
     "text": [
      "91\n"
     ]
    }
   ],
   "source": [
    "from random import randint \n",
    "print(randint(1,100))"
   ]
  },
  {
   "cell_type": "markdown",
   "id": "c12d4861",
   "metadata": {},
   "source": [
    "### Assignment 4: Importing Multiple Functions\n",
    "\n",
    "Import the `sqrt` and `pow` functions from the `math` module and use them to calculate the square root of 16 and 2 raised to the power of 3."
   ]
  },
  {
   "cell_type": "code",
   "execution_count": null,
   "id": "117e53cc",
   "metadata": {},
   "outputs": [
    {
     "name": "stdout",
     "output_type": "stream",
     "text": [
      "4.0\n",
      "8.0\n",
      "4.0\n",
      "8.0\n"
     ]
    }
   ],
   "source": [
    "from math import sqrt , pow \n",
    "print(sqrt(16))\n",
    "print(pow(2,3))"
   ]
  },
  {
   "cell_type": "markdown",
   "id": "77d36081",
   "metadata": {},
   "source": [
    "### Assignment 5: Handling Import Errors\n",
    "\n",
    "Write code that attempts to import a non-existent module and gracefully handles the import error by printing an error message."
   ]
  },
  {
   "cell_type": "code",
   "execution_count": 8,
   "id": "8a0750f5",
   "metadata": {},
   "outputs": [
    {
     "name": "stdout",
     "output_type": "stream",
     "text": [
      "Error importing module: No module named 'jalebi'\n"
     ]
    }
   ],
   "source": [
    "try :\n",
    "    import jalebi\n",
    "except ImportError as e:\n",
    "    print(f\"Error importing module: {e}\")"
   ]
  },
  {
   "cell_type": "markdown",
   "id": "2c7acbcc",
   "metadata": {},
   "source": [
    "## Lesson 5.2: Standard Library Overview\n",
    "### Assignment 6: Working with the `os` Module\n",
    "\n",
    "Use the `os` module to create a new directory, list the contents of the current directory, and remove the newly created directory."
   ]
  },
  {
   "cell_type": "code",
   "execution_count": 11,
   "id": "b4f15230",
   "metadata": {},
   "outputs": [
    {
     "name": "stdout",
     "output_type": "stream",
     "text": [
      "['.vscode', 'coverage', 'New directory', 'New_directory', 'packagessolution.ipynb']\n",
      "['.vscode', 'coverage', 'New directory', 'packagessolution.ipynb']\n"
     ]
    }
   ],
   "source": [
    "import os \n",
    "os.mkdir('New_directory')\n",
    "print(os.listdir('.'))\n",
    "os.rmdir('New_directory')\n",
    "print(os.listdir('.'))"
   ]
  },
  {
   "cell_type": "markdown",
   "id": "7f7d5130",
   "metadata": {},
   "source": [
    "### Assignment 7: Working with the `sys` Module\n",
    "\n",
    "Use the `sys` module to print the Python version currently in use and the command-line arguments passed to the script."
   ]
  },
  {
   "cell_type": "code",
   "execution_count": null,
   "id": "a9506ae8",
   "metadata": {},
   "outputs": [
    {
     "name": "stdout",
     "output_type": "stream",
     "text": [
      "Python version: 3.8.8 (default, Apr 13 2021, 15:08:03) [MSC v.1916 64 bit (AMD64)]\n",
      "Command-line arguments: ['d:\\\\New folder\\\\anaconda\\\\lib\\\\site-packages\\\\ipykernel_launcher.py', '--f=c:\\\\Users\\\\lalit\\\\AppData\\\\Roaming\\\\jupyter\\\\runtime\\\\kernel-v3ac12f48e9f1ae4686f56727384b5f5d909f495cc.json']\n",
      "Python version :3.8.8 (default, Apr 13 2021, 15:08:03) [MSC v.1916 64 bit (AMD64)]\n",
      "Command-line arguments:['d:\\\\New folder\\\\anaconda\\\\lib\\\\site-packages\\\\ipykernel_launcher.py', '--f=c:\\\\Users\\\\lalit\\\\AppData\\\\Roaming\\\\jupyter\\\\runtime\\\\kernel-v3ac12f48e9f1ae4686f56727384b5f5d909f495cc.json']\n"
     ]
    }
   ],
   "source": [
    "import sys \n",
    "print(f\"Python version :{sys.version}\")\n",
    "print(f\"Command-line arguments:{sys.argv}\")"
   ]
  },
  {
   "cell_type": "markdown",
   "id": "c9b3c909",
   "metadata": {},
   "source": [
    "### Assignment 8: Working with the `math` Module\n",
    "\n",
    "Use the `math` module to calculate the greatest common divisor (GCD) of two numbers and the factorial of a number."
   ]
  },
  {
   "cell_type": "code",
   "execution_count": 13,
   "id": "e583d651",
   "metadata": {},
   "outputs": [
    {
     "name": "stdout",
     "output_type": "stream",
     "text": [
      "6\n",
      "120\n"
     ]
    }
   ],
   "source": [
    "import math \n",
    "print(math.gcd(48,18))\n",
    "print(math.factorial(5))"
   ]
  },
  {
   "cell_type": "markdown",
   "id": "9d298b0a",
   "metadata": {},
   "source": [
    "### Assignment 9: Working with the `datetime` Module\n",
    "\n",
    "Use the `datetime` module to print the current date, calculate the date 100 days from today, and determine the day of the week for a given date."
   ]
  },
  {
   "cell_type": "code",
   "execution_count": 14,
   "id": "afde5f90",
   "metadata": {},
   "outputs": [
    {
     "name": "stdout",
     "output_type": "stream",
     "text": [
      "todays Date : 2025-03-03\n",
      "Date 100 days from today:2025-06-11\n",
      "Day of the week for 2022-01-01:Saturday\n"
     ]
    }
   ],
   "source": [
    "import datetime\n",
    "today = datetime.date.today()\n",
    "print(f\"todays Date : {today}\")\n",
    "future_date = today + datetime.timedelta(days=100)\n",
    "print(f\"Date 100 days from today:{future_date}\")\n",
    "given_date = datetime.date(2022,1,1)\n",
    "print(f\"Day of the week for 2022-01-01:{given_date.strftime('%A')}\")"
   ]
  },
  {
   "cell_type": "markdown",
   "id": "461ccdcf",
   "metadata": {},
   "source": [
    "### Assignment 10: Working with the `random` Module\n",
    "\n",
    "Use the `random` module to generate a list of 5 random numbers between 1 and 50 and shuffle the elements of a list."
   ]
  },
  {
   "cell_type": "code",
   "execution_count": 15,
   "id": "99595f2a",
   "metadata": {},
   "outputs": [
    {
     "name": "stdout",
     "output_type": "stream",
     "text": [
      "[2, 12, 18, 21, 3]\n",
      "[5, 3, 4, 2, 6, 1]\n"
     ]
    }
   ],
   "source": [
    "import random \n",
    "random_numbers = [random.randint(1,50) for _ in range(5)]\n",
    "print(random_numbers)\n",
    "lst = [1,2,3,4,5,6]\n",
    "random.shuffle(lst)\n",
    "print(lst)"
   ]
  },
  {
   "cell_type": "markdown",
   "id": "fbbb3666",
   "metadata": {},
   "source": [
    "## Lesson 5.3: Creating and Using Packages\n",
    "### Assignment 11: Creating a Simple Package\n",
    "\n",
    "Create a package named `mypackage` with two modules: `module1` and `module2`. `module1` should contain a function that adds two numbers, and `module2` should contain a function that multiplies two numbers. Write code to use these functions."
   ]
  },
  {
   "cell_type": "code",
   "execution_count": 18,
   "id": "67ee35ae",
   "metadata": {},
   "outputs": [],
   "source": [
    "import sys\n",
    "sys.path.append('D:/GitUploads/DS_ML_DL_NLP_Bootcamp/Module_5/package')"
   ]
  },
  {
   "cell_type": "code",
   "execution_count": 19,
   "id": "6720387b",
   "metadata": {},
   "outputs": [
    {
     "name": "stdout",
     "output_type": "stream",
     "text": [
      "30\n",
      "11\n"
     ]
    }
   ],
   "source": [
    "from package import module1\n",
    "from package import module2\n",
    "print(module2.mult(5,6))\n",
    "print(module1.add(5,6))"
   ]
  },
  {
   "cell_type": "markdown",
   "id": "65369b98",
   "metadata": {},
   "source": [
    "### Assignment 12: Using `__init__.py`\n",
    "\n",
    "Modify the `mypackage` package to include an `__init__.py` file that imports the functions from `module1` and `module2`. Write code to use these functions."
   ]
  },
  {
   "cell_type": "code",
   "execution_count": null,
   "id": "cb6a817c",
   "metadata": {},
   "outputs": [
    {
     "name": "stdout",
     "output_type": "stream",
     "text": [
      "5\n",
      "6\n"
     ]
    }
   ],
   "source": [
    "# Content of __init__.py\n",
    "# from .module1 import add\n",
    "# from .module2 import multiply\n",
    "\n",
    "# Using the package\n",
    "from package import module1, module2\n",
    "\n",
    "print(module1.add(2, 3))  \n",
    "print(module2.mult(2, 3)) "
   ]
  },
  {
   "cell_type": "markdown",
   "id": "1310f954",
   "metadata": {},
   "source": [
    "### Assignment 13: Importing from a Package\n",
    "\n",
    "Write code to import and use the functions from `mypackage` without explicitly importing `module1` and `module2`."
   ]
  },
  {
   "cell_type": "code",
   "execution_count": 23,
   "id": "ca1c9e4c",
   "metadata": {},
   "outputs": [
    {
     "name": "stdout",
     "output_type": "stream",
     "text": [
      "5\n",
      "6\n"
     ]
    }
   ],
   "source": [
    "from package.module1 import add\n",
    "from package.module2 import mult\n",
    "\n",
    "\n",
    "print(module1.add(2, 3))  \n",
    "print(module2.mult(2, 3))  "
   ]
  },
  {
   "cell_type": "markdown",
   "id": "cf7419c8",
   "metadata": {},
   "source": [
    "### Assignment 14: Relative Imports\n",
    "\n",
    "Create a subpackage named `subpackage` within `mypackage` and move `module2` into `subpackage`. Modify the import statements in `__init__.py` to use relative imports. Write code to use the functions from both modules."
   ]
  },
  {
   "cell_type": "code",
   "execution_count": null,
   "id": "491bdf65",
   "metadata": {},
   "outputs": [
    {
     "name": "stdout",
     "output_type": "stream",
     "text": [
      "5\n",
      "6\n"
     ]
    }
   ],
   "source": [
    "# File structure:\n",
    "# mypackage/\n",
    "#   __init__.py\n",
    "#   module1.py\n",
    "#   subpackage/\n",
    "#     __init__.py\n",
    "#     module2.py\n",
    "\n",
    "# Content of __init__.py in mypackage\n",
    "# from .module1 import add\n",
    "# from .subpackage.module2 import multiply\n",
    "\n",
    "# Using the package\n",
    "from package.module1 import add\n",
    "from package.subpackage.module2 import mult\n",
    "\n",
    "print(add(2, 3))  \n",
    "print(mult(2, 3)) "
   ]
  },
  {
   "cell_type": "markdown",
   "id": "0832ffc8",
   "metadata": {},
   "source": [
    "### Assignment 15: Handling Package Import Errors\n",
    "\n",
    "Write code that attempts to import a non-existent function from `mypackage` and gracefully handles the import error by printing an error message."
   ]
  },
  {
   "cell_type": "code",
   "execution_count": 1,
   "id": "f71315d8",
   "metadata": {},
   "outputs": [
    {
     "name": "stdout",
     "output_type": "stream",
     "text": [
      "Error in importing function: cannot import name 'non_existent_function' from 'package' (unknown location)\n"
     ]
    }
   ],
   "source": [
    "try:\n",
    "    from package import non_existent_function\n",
    "except ImportError as e:\n",
    "    print(f\"Error in importing function: {e}\")"
   ]
  }
 ],
 "metadata": {
  "kernelspec": {
   "display_name": "base",
   "language": "python",
   "name": "python3"
  },
  "language_info": {
   "codemirror_mode": {
    "name": "ipython",
    "version": 3
   },
   "file_extension": ".py",
   "mimetype": "text/x-python",
   "name": "python",
   "nbconvert_exporter": "python",
   "pygments_lexer": "ipython3",
   "version": "3.8.8"
  }
 },
 "nbformat": 4,
 "nbformat_minor": 5
}
