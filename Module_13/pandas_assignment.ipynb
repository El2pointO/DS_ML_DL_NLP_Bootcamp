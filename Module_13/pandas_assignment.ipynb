{
 "cells": [
  {
   "cell_type": "markdown",
   "id": "cfb37a24",
   "metadata": {},
   "source": [
    "# Module: Pandas Assignments\n",
    "## Lesson: Pandas\n",
    "### Assignment 1: DataFrame Creation and Indexing\n",
    "\n",
    "1. Create a Pandas DataFrame with 4 columns and 6 rows filled with random integers. Set the index to be the first column."
   ]
  },
  {
   "cell_type": "code",
   "execution_count": 6,
   "id": "44cd206c",
   "metadata": {},
   "outputs": [
    {
     "name": "stdout",
     "output_type": "stream",
     "text": [
      "Original DataFrame:\n",
      "    A   B   C   D\n",
      "0  31  92  15  80\n",
      "1  40  71  57  73\n",
      "2  14   1  56  91\n",
      "3  14  15   5  16\n",
      "4   3  65   8  13\n",
      "5  36  71  14  50\n",
      "DataFrame with new index:\n",
      "     B   C   D\n",
      "A             \n",
      "31  92  15  80\n",
      "40  71  57  73\n",
      "14   1  56  91\n",
      "14  15   5  16\n",
      "3   65   8  13\n",
      "36  71  14  50\n"
     ]
    }
   ],
   "source": [
    "import pandas as pd\n",
    "import numpy as np\n",
    "\n",
    "df = pd.DataFrame(np.random.randint(1, 100, size=(6, 4)), columns=['A', 'B', 'C', 'D'])\n",
    "print(\"Original DataFrame:\")\n",
    "print(df)\n",
    "\n",
    "df.set_index('A', inplace=True)\n",
    "print(\"DataFrame with new index:\")\n",
    "print(df)"
   ]
  },
  {
   "cell_type": "markdown",
   "id": "50cc0d73",
   "metadata": {},
   "source": [
    "2. Create a Pandas DataFrame with columns 'A', 'B', 'C' and index 'X', 'Y', 'Z'. Fill the DataFrame with random integers and access the element at row 'Y' and column 'B'."
   ]
  },
  {
   "cell_type": "code",
   "execution_count": 7,
   "id": "1ac6d528",
   "metadata": {},
   "outputs": [
    {
     "name": "stdout",
     "output_type": "stream",
     "text": [
      "Original_dataFrame \n",
      "     A   B   C\n",
      "X  95  33  87\n",
      "Y  86  60  97\n",
      "Z  39  96  92\n",
      "60\n"
     ]
    }
   ],
   "source": [
    "df = pd.DataFrame(np.random.randint(1,100,size = (3,3)),columns = ['A','B','C'],index= ['X','Y','Z'])\n",
    "print(\"Original_dataFrame \\n\", df)\n",
    "\n",
    "element = df.at['Y','B']\n",
    "\n",
    "print(element)"
   ]
  },
  {
   "cell_type": "markdown",
   "id": "84a9a4f0",
   "metadata": {},
   "source": [
    "### Assignment 2: DataFrame Operations\n",
    "\n",
    "1. Create a Pandas DataFrame with 3 columns and 5 rows filled with random integers. Add a new column that is the product of the first two columns."
   ]
  },
  {
   "cell_type": "code",
   "execution_count": 8,
   "id": "7469a715",
   "metadata": {},
   "outputs": [
    {
     "name": "stdout",
     "output_type": "stream",
     "text": [
      "Original DataFrame:\n",
      "    A   B   C\n",
      "0  59  42  26\n",
      "1  84  25  36\n",
      "2  24  63  28\n",
      "3  58  51  97\n",
      "4  64   6  67\n",
      "DataFrame with new column:\n",
      "    A   B   C     D\n",
      "0  59  42  26  2478\n",
      "1  84  25  36  2100\n",
      "2  24  63  28  1512\n",
      "3  58  51  97  2958\n",
      "4  64   6  67   384\n"
     ]
    }
   ],
   "source": [
    "df = pd.DataFrame(np.random.randint(1, 100, size=(5, 3)), columns=['A', 'B', 'C'])\n",
    "print(\"Original DataFrame:\")\n",
    "print(df)\n",
    "\n",
    "df['D'] = df['A'] * df['B']\n",
    "print(\"DataFrame with new column:\")\n",
    "print(df)"
   ]
  },
  {
   "cell_type": "markdown",
   "id": "8b001b22",
   "metadata": {},
   "source": [
    "2. Create a Pandas DataFrame with 3 columns and 4 rows filled with random integers. Compute the row-wise and column-wise sum."
   ]
  },
  {
   "cell_type": "code",
   "execution_count": 9,
   "id": "43e6bc6d",
   "metadata": {},
   "outputs": [
    {
     "name": "stdout",
     "output_type": "stream",
     "text": [
      "Original DataFrame:\n",
      "    A   B   C\n",
      "0   2  32  77\n",
      "1  64  34  97\n",
      "2  70  69  87\n",
      "3  41  75  20\n",
      "Row-wise sum:\n",
      "0    111\n",
      "1    195\n",
      "2    226\n",
      "3    136\n",
      "dtype: int64\n",
      "Column-wise sum:\n",
      "A    177\n",
      "B    210\n",
      "C    281\n",
      "dtype: int64\n"
     ]
    }
   ],
   "source": [
    "df = pd.DataFrame(np.random.randint(1, 100, size=(4, 3)), columns=['A', 'B', 'C'])\n",
    "print(\"Original DataFrame:\")\n",
    "print(df)\n",
    "\n",
    "row_sum = df.sum(axis=1)\n",
    "column_sum = df.sum(axis=0)\n",
    "\n",
    "print(\"Row-wise sum:\")\n",
    "print(row_sum)\n",
    "print(\"Column-wise sum:\")\n",
    "print(column_sum)"
   ]
  },
  {
   "cell_type": "markdown",
   "id": "1a48e205",
   "metadata": {},
   "source": [
    "### Assignment 3: Data Cleaning\n",
    "\n",
    "1. Create a Pandas DataFrame with 3 columns and 5 rows filled with random integers. Introduce some NaN values. Fill the NaN values with the mean of the respective columns."
   ]
  },
  {
   "cell_type": "code",
   "execution_count": 10,
   "id": "74e4034e",
   "metadata": {},
   "outputs": [
    {
     "name": "stdout",
     "output_type": "stream",
     "text": [
      "Original DataFrame:\n",
      "    A   B   C\n",
      "0  93  85  96\n",
      "1  85  93  24\n",
      "2  39  23  88\n",
      "3  28  42  46\n",
      "4  82  93  93\n",
      "DataFrame with NaN values:\n",
      "      A     B     C\n",
      "0  93.0   NaN  96.0\n",
      "1  85.0  93.0  24.0\n",
      "2  39.0  23.0   NaN\n",
      "3  28.0  42.0  46.0\n",
      "4   NaN  93.0  93.0\n",
      "DataFrame with NaN values filled:\n",
      "       A      B      C\n",
      "0  93.00  62.75  96.00\n",
      "1  85.00  93.00  24.00\n",
      "2  39.00  23.00  64.75\n",
      "3  28.00  42.00  46.00\n",
      "4  61.25  93.00  93.00\n"
     ]
    }
   ],
   "source": [
    "df = pd.DataFrame(np.random.randint(1, 100, size=(5, 3)), columns=['A', 'B', 'C'])\n",
    "print(\"Original DataFrame:\")\n",
    "print(df)\n",
    "\n",
    "df.iloc[0, 1] = np.nan\n",
    "df.iloc[2, 2] = np.nan\n",
    "df.iloc[4, 0] = np.nan\n",
    "print(\"DataFrame with NaN values:\")\n",
    "print(df)\n",
    "\n",
    "df.fillna(df.mean(), inplace=True)\n",
    "print(\"DataFrame with NaN values filled:\")\n",
    "print(df)"
   ]
  },
  {
   "cell_type": "markdown",
   "id": "dea1fbd9",
   "metadata": {},
   "source": [
    "2. Create a Pandas DataFrame with 4 columns and 6 rows filled with random integers. Introduce some NaN values. Drop the rows with any NaN values."
   ]
  },
  {
   "cell_type": "code",
   "execution_count": 11,
   "id": "3c50ffdb",
   "metadata": {},
   "outputs": [
    {
     "name": "stdout",
     "output_type": "stream",
     "text": [
      "Original DataFrame:\n",
      "    A   B   C   D\n",
      "0  21  93  73  26\n",
      "1  19  54  34  25\n",
      "2  78  54  91   9\n",
      "3  18  99  66  34\n",
      "4  30   7  67  55\n",
      "5  54   2  15  17\n",
      "DataFrame with NaN values:\n",
      "      A     B     C   D\n",
      "0  21.0  93.0  73.0  26\n",
      "1  19.0  54.0   NaN  25\n",
      "2  78.0  54.0  91.0   9\n",
      "3   NaN  99.0  66.0  34\n",
      "4  30.0   7.0  67.0  55\n",
      "5  54.0   NaN  15.0  17\n",
      "DataFrame with NaN values dropped:\n",
      "      A     B     C   D\n",
      "0  21.0  93.0  73.0  26\n",
      "2  78.0  54.0  91.0   9\n",
      "4  30.0   7.0  67.0  55\n"
     ]
    }
   ],
   "source": [
    "df = pd.DataFrame(np.random.randint(1, 100, size=(6, 4)), columns=['A', 'B', 'C', 'D'])\n",
    "print(\"Original DataFrame:\")\n",
    "print(df)\n",
    "\n",
    "df.iloc[1, 2] = np.nan\n",
    "df.iloc[3, 0] = np.nan\n",
    "df.iloc[5, 1] = np.nan\n",
    "print(\"DataFrame with NaN values:\")\n",
    "print(df)\n",
    "\n",
    "df.dropna(inplace=True)\n",
    "print(\"DataFrame with NaN values dropped:\")\n",
    "print(df)"
   ]
  },
  {
   "cell_type": "markdown",
   "id": "28bce571",
   "metadata": {},
   "source": [
    "### Assignment 4: Data Aggregation\n",
    "\n",
    "1. Create a Pandas DataFrame with 2 columns: 'Category' and 'Value'. Fill the 'Category' column with random categories ('A', 'B', 'C') and the 'Value' column with random integers. Group the DataFrame by 'Category' and compute the sum and mean of 'Value' for each category."
   ]
  },
  {
   "cell_type": "code",
   "execution_count": 12,
   "id": "4e784844",
   "metadata": {},
   "outputs": [
    {
     "name": "stdout",
     "output_type": "stream",
     "text": [
      "  Category  Value\n",
      "0        A     42\n",
      "1        A     12\n",
      "2        B     64\n",
      "3        B     19\n",
      "4        C     95\n",
      "5        A     42\n",
      "6        A     23\n",
      "7        A     63\n",
      "8        A     20\n",
      "9        C     55\n",
      "          sum       mean\n",
      "Category                \n",
      "A         202  33.666667\n",
      "B          83  41.500000\n",
      "C         150  75.000000\n"
     ]
    }
   ],
   "source": [
    "df = pd.DataFrame({'Category': np.random.choice(['A','B','C'],size= 10), 'Value': np.random.randint(1,100 ,size = 10 )})\n",
    "print(df)\n",
    "\n",
    "grouped_df = df.groupby('Category')['Value'].agg(['sum','mean'])\n",
    "\n",
    "print(grouped_df)"
   ]
  },
  {
   "cell_type": "markdown",
   "id": "43d28392",
   "metadata": {},
   "source": [
    "2. Create a Pandas DataFrame with 3 columns: 'Product', 'Category', and 'Sales'. Fill the DataFrame with random data. Group the DataFrame by 'Category' and compute the total sales for each category."
   ]
  },
  {
   "cell_type": "code",
   "execution_count": 13,
   "id": "8fb853d4",
   "metadata": {},
   "outputs": [
    {
     "name": "stdout",
     "output_type": "stream",
     "text": [
      "Original DataFrame:\n",
      "  Product Category  Sales\n",
      "0   Prod2        B     17\n",
      "1   Prod2        A     13\n",
      "2   Prod2        A     54\n",
      "3   Prod2        A     34\n",
      "4   Prod2        B     34\n",
      "5   Prod3        C     80\n",
      "6   Prod3        A     91\n",
      "7   Prod3        A     48\n",
      "8   Prod3        C     45\n",
      "9   Prod2        A     61\n",
      "Grouped DataFrame:\n",
      "Category\n",
      "A    301\n",
      "B     51\n",
      "C    125\n",
      "Name: Sales, dtype: int32\n"
     ]
    }
   ],
   "source": [
    "df = pd.DataFrame({'Product': np.random.choice(['Prod1', 'Prod2', 'Prod3'], size=10), 'Category': np.random.choice(['A', 'B', 'C'], size=10), 'Sales': np.random.randint(1, 100, size=10)})\n",
    "print(\"Original DataFrame:\")\n",
    "print(df)\n",
    "\n",
    "grouped = df.groupby('Category')['Sales'].sum()\n",
    "print(\"Grouped DataFrame:\")\n",
    "print(grouped)"
   ]
  },
  {
   "cell_type": "markdown",
   "id": "dc78f886",
   "metadata": {},
   "source": [
    "### Assignment 5: Merging DataFrames\n",
    "\n",
    "1. Create two Pandas DataFrames with a common column. Merge the DataFrames using the common column."
   ]
  },
  {
   "cell_type": "code",
   "execution_count": 14,
   "id": "1a97ddf6",
   "metadata": {},
   "outputs": [
    {
     "name": "stdout",
     "output_type": "stream",
     "text": [
      "DataFrame 1:\n",
      "  Key  Value1\n",
      "0   A      45\n",
      "1   B       8\n",
      "2   C      85\n",
      "3   D       1\n",
      "DataFrame 2:\n",
      "  Key  Value2\n",
      "0   A      21\n",
      "1   B      11\n",
      "2   C      43\n",
      "3   E      95\n",
      "Merged DataFrame:\n",
      "  Key  Value1  Value2\n",
      "0   A      45      21\n",
      "1   B       8      11\n",
      "2   C      85      43\n"
     ]
    }
   ],
   "source": [
    "df1 = pd.DataFrame({'Key': ['A', 'B', 'C', 'D'], 'Value1': np.random.randint(1, 100, size=4)})\n",
    "df2 = pd.DataFrame({'Key': ['A', 'B', 'C', 'E'], 'Value2': np.random.randint(1, 100, size=4)})\n",
    "print(\"DataFrame 1:\")\n",
    "print(df1)\n",
    "print(\"DataFrame 2:\")\n",
    "print(df2)\n",
    "\n",
    "merged = pd.merge(df1, df2, on='Key')\n",
    "print(\"Merged DataFrame:\")\n",
    "print(merged)"
   ]
  },
  {
   "cell_type": "markdown",
   "id": "238f1273",
   "metadata": {},
   "source": [
    "2. Create two Pandas DataFrames with different columns. Concatenate the DataFrames along the rows and along the columns."
   ]
  },
  {
   "cell_type": "code",
   "execution_count": 15,
   "id": "5d378417",
   "metadata": {},
   "outputs": [
    {
     "name": "stdout",
     "output_type": "stream",
     "text": [
      "DataFrame 1:\n",
      "    A   B\n",
      "0  35  82\n",
      "1  30  64\n",
      "2  76  54\n",
      "DataFrame 2:\n",
      "    C   D\n",
      "0  95   7\n",
      "1  60  97\n",
      "2  19  84\n",
      "Concatenated DataFrame (rows):\n",
      "      A     B     C     D\n",
      "0  35.0  82.0   NaN   NaN\n",
      "1  30.0  64.0   NaN   NaN\n",
      "2  76.0  54.0   NaN   NaN\n",
      "0   NaN   NaN  95.0   7.0\n",
      "1   NaN   NaN  60.0  97.0\n",
      "2   NaN   NaN  19.0  84.0\n",
      "Concatenated DataFrame (columns):\n",
      "    A   B   C   D\n",
      "0  35  82  95   7\n",
      "1  30  64  60  97\n",
      "2  76  54  19  84\n"
     ]
    }
   ],
   "source": [
    "df1 = pd.DataFrame({'A': np.random.randint(1, 100, size=3), 'B': np.random.randint(1, 100, size=3)})\n",
    "df2 = pd.DataFrame({'C': np.random.randint(1, 100, size=3), 'D': np.random.randint(1, 100, size=3)})\n",
    "print(\"DataFrame 1:\")\n",
    "print(df1)\n",
    "print(\"DataFrame 2:\")\n",
    "print(df2)\n",
    "\n",
    "concat_rows = pd.concat([df1, df2], axis=0)\n",
    "print(\"Concatenated DataFrame (rows):\")\n",
    "print(concat_rows)\n",
    "\n",
    "concat_columns = pd.concat([df1, df2], axis=1)\n",
    "print(\"Concatenated DataFrame (columns):\")\n",
    "print(concat_columns)"
   ]
  },
  {
   "cell_type": "markdown",
   "id": "51e6e809",
   "metadata": {},
   "source": [
    "### Assignment 6: Time Series Analysis\n",
    "\n",
    "1. Create a Pandas DataFrame with a datetime index and one column filled with random integers. Resample the DataFrame to compute the monthly mean of the values."
   ]
  },
  {
   "cell_type": "code",
   "execution_count": 16,
   "id": "2245eb6e",
   "metadata": {},
   "outputs": [
    {
     "name": "stdout",
     "output_type": "stream",
     "text": [
      "Original DataFrame:\n",
      "            data\n",
      "date            \n",
      "2022-01-01    89\n",
      "2022-01-02    17\n",
      "2022-01-03    80\n",
      "2022-01-04    62\n",
      "2022-01-05    35\n",
      "...          ...\n",
      "2022-12-27    42\n",
      "2022-12-28    84\n",
      "2022-12-29    70\n",
      "2022-12-30    64\n",
      "2022-12-31    92\n",
      "\n",
      "[365 rows x 1 columns]\n",
      "Monthly mean DataFrame:\n",
      "                 data\n",
      "date                 \n",
      "2022-01-31  49.258065\n",
      "2022-02-28  54.464286\n",
      "2022-03-31  43.129032\n",
      "2022-04-30  55.466667\n",
      "2022-05-31  53.677419\n",
      "2022-06-30  43.433333\n",
      "2022-07-31  46.935484\n",
      "2022-08-31  39.064516\n",
      "2022-09-30  58.866667\n",
      "2022-10-31  45.483871\n",
      "2022-11-30  53.766667\n",
      "2022-12-31  56.290323\n"
     ]
    }
   ],
   "source": [
    "date_rng = pd.date_range(start='2022-01-01', end='2022-12-31', freq='D')\n",
    "df = pd.DataFrame(date_rng, columns=['date'])\n",
    "df['data'] = np.random.randint(0, 100, size=(len(date_rng)))\n",
    "df.set_index('date', inplace=True)\n",
    "print(\"Original DataFrame:\")\n",
    "print(df)\n",
    "\n",
    "monthly_mean = df.resample('M').mean()\n",
    "print(\"Monthly mean DataFrame:\")\n",
    "print(monthly_mean)"
   ]
  },
  {
   "cell_type": "markdown",
   "id": "40e20fb5",
   "metadata": {},
   "source": [
    "2. Create a Pandas DataFrame with a datetime index ranging from '2021-01-01' to '2021-12-31' and one column filled with random integers. Compute the rolling mean with a window of 7 days."
   ]
  },
  {
   "cell_type": "code",
   "execution_count": 17,
   "id": "d3d342b4",
   "metadata": {},
   "outputs": [
    {
     "name": "stdout",
     "output_type": "stream",
     "text": [
      "Original DataFrame:\n",
      "            data\n",
      "date            \n",
      "2021-01-01    26\n",
      "2021-01-02    39\n",
      "2021-01-03    77\n",
      "2021-01-04    29\n",
      "2021-01-05    48\n",
      "...          ...\n",
      "2021-12-27    48\n",
      "2021-12-28    17\n",
      "2021-12-29     7\n",
      "2021-12-30    66\n",
      "2021-12-31    50\n",
      "\n",
      "[365 rows x 1 columns]\n",
      "Rolling mean DataFrame:\n",
      "                 data\n",
      "date                 \n",
      "2021-01-01        NaN\n",
      "2021-01-02        NaN\n",
      "2021-01-03        NaN\n",
      "2021-01-04        NaN\n",
      "2021-01-05        NaN\n",
      "...               ...\n",
      "2021-12-27  44.285714\n",
      "2021-12-28  46.428571\n",
      "2021-12-29  45.571429\n",
      "2021-12-30  50.285714\n",
      "2021-12-31  47.285714\n",
      "\n",
      "[365 rows x 1 columns]\n"
     ]
    }
   ],
   "source": [
    "date_rng = pd.date_range(start='2021-01-01', end='2021-12-31', freq='D')\n",
    "df = pd.DataFrame(date_rng, columns=['date'])\n",
    "df['data'] = np.random.randint(0, 100, size=(len(date_rng)))\n",
    "df.set_index('date', inplace=True)\n",
    "print(\"Original DataFrame:\")\n",
    "print(df)\n",
    "\n",
    "rolling_mean = df.rolling(window=7).mean()\n",
    "print(\"Rolling mean DataFrame:\")\n",
    "print(rolling_mean)"
   ]
  },
  {
   "cell_type": "markdown",
   "id": "8daf1d8d",
   "metadata": {},
   "source": [
    "### Assignment 7: MultiIndex DataFrame\n",
    "\n",
    "1. Create a Pandas DataFrame with a MultiIndex (hierarchical index). Perform some basic indexing and slicing operations on the MultiIndex DataFrame."
   ]
  },
  {
   "cell_type": "code",
   "execution_count": 18,
   "id": "c63298a5",
   "metadata": {},
   "outputs": [
    {
     "name": "stdout",
     "output_type": "stream",
     "text": [
      "MultiIndex DataFrame:\n",
      "                      Value1  Value2  Value3\n",
      "Category SubCategory                        \n",
      "A        one              23      72      86\n",
      "         two              22      23       3\n",
      "B        one              70      93      76\n",
      "         two              78      43      46\n",
      "Indexing at Category 'A':\n",
      "             Value1  Value2  Value3\n",
      "SubCategory                        \n",
      "one              23      72      86\n",
      "two              22      23       3\n",
      "Slicing at Category 'B' and SubCategory 'two':\n",
      "Value1    78\n",
      "Value2    43\n",
      "Value3    46\n",
      "Name: (B, two), dtype: int32\n"
     ]
    }
   ],
   "source": [
    "arrays = [['A', 'A', 'B', 'B'], ['one', 'two', 'one', 'two']]\n",
    "index = pd.MultiIndex.from_arrays(arrays, names=('Category', 'SubCategory'))\n",
    "df = pd.DataFrame(np.random.randint(1, 100, size=(4, 3)), index=index, columns=['Value1', 'Value2', 'Value3'])\n",
    "print(\"MultiIndex DataFrame:\")\n",
    "print(df)\n",
    "\n",
    "print(\"Indexing at Category 'A':\")\n",
    "print(df.loc['A'])\n",
    "\n",
    "print(\"Slicing at Category 'B' and SubCategory 'two':\")\n",
    "print(df.loc[('B', 'two')])"
   ]
  },
  {
   "cell_type": "markdown",
   "id": "7fec770c",
   "metadata": {},
   "source": [
    "2. Create a Pandas DataFrame with MultiIndex consisting of 'Category' and 'SubCategory'. Fill the DataFrame with random data and compute the sum of values for each 'Category' and 'SubCategory'."
   ]
  },
  {
   "cell_type": "code",
   "execution_count": 19,
   "id": "c8ab650a",
   "metadata": {},
   "outputs": [
    {
     "name": "stdout",
     "output_type": "stream",
     "text": [
      "MultiIndex DataFrame:\n",
      "                      Value1  Value2  Value3\n",
      "Category SubCategory                        \n",
      "A        one              26      30       7\n",
      "         two              20      44      36\n",
      "B        one              69      12      83\n",
      "         two              10      90      91\n",
      "C        one              69      16      23\n",
      "         two              74      60      86\n",
      "Sum of values:\n",
      "                      Value1  Value2  Value3\n",
      "Category SubCategory                        \n",
      "A        one              26      30       7\n",
      "         two              20      44      36\n",
      "B        one              69      12      83\n",
      "         two              10      90      91\n",
      "C        one              69      16      23\n",
      "         two              74      60      86\n"
     ]
    }
   ],
   "source": [
    "arrays = [['A', 'A', 'B', 'B', 'C', 'C'], ['one', 'two', 'one', 'two', 'one', 'two']]\n",
    "index = pd.MultiIndex.from_arrays(arrays, names=('Category', 'SubCategory'))\n",
    "df = pd.DataFrame(np.random.randint(1, 100, size=(6, 3)), index=index, columns=['Value1', 'Value2', 'Value3'])\n",
    "print(\"MultiIndex DataFrame:\")\n",
    "print(df)\n",
    "\n",
    "sum_values = df.groupby(['Category', 'SubCategory']).sum()\n",
    "print(\"Sum of values:\")\n",
    "print(sum_values)"
   ]
  },
  {
   "cell_type": "markdown",
   "id": "29e4513a",
   "metadata": {},
   "source": [
    "### Assignment 8: Pivot Tables\n",
    "\n",
    "1. Create a Pandas DataFrame with columns 'Date', 'Category', and 'Value'. Create a pivot table to compute the sum of 'Value' for each 'Category' by 'Date'."
   ]
  },
  {
   "cell_type": "code",
   "execution_count": 20,
   "id": "4e7d5241",
   "metadata": {},
   "outputs": [
    {
     "name": "stdout",
     "output_type": "stream",
     "text": [
      "Original DataFrame:\n",
      "         Date Category  Value\n",
      "0  2022-01-10        B     69\n",
      "1  2022-01-02        C     36\n",
      "2  2022-01-10        C     70\n",
      "3  2022-01-05        B     24\n",
      "4  2022-01-08        C     92\n",
      "5  2022-01-01        A      8\n",
      "6  2022-01-02        B     45\n",
      "7  2022-01-05        A      4\n",
      "8  2022-01-02        C     89\n",
      "9  2022-01-10        C     82\n",
      "10 2022-01-04        C     98\n",
      "11 2022-01-07        C     57\n",
      "12 2022-01-02        C     35\n",
      "13 2022-01-02        B     83\n",
      "14 2022-01-01        B     89\n",
      "15 2022-01-06        A     84\n",
      "16 2022-01-01        C     38\n",
      "17 2022-01-06        A     85\n",
      "18 2022-01-08        B      8\n",
      "19 2022-01-04        B     72\n",
      "Pivot Table:\n",
      "Category        A      B      C\n",
      "Date                           \n",
      "2022-01-01    8.0   89.0   38.0\n",
      "2022-01-02    NaN  128.0  160.0\n",
      "2022-01-04    NaN   72.0   98.0\n",
      "2022-01-05    4.0   24.0    NaN\n",
      "2022-01-06  169.0    NaN    NaN\n",
      "2022-01-07    NaN    NaN   57.0\n",
      "2022-01-08    NaN    8.0   92.0\n",
      "2022-01-10    NaN   69.0  152.0\n"
     ]
    }
   ],
   "source": [
    "date_rng = pd.date_range(start='2022-01-01', end='2022-01-10', freq='D')\n",
    "df = pd.DataFrame({'Date': np.random.choice(date_rng, size=20), 'Category': np.random.choice(['A', 'B', 'C'], size=20), 'Value': np.random.randint(1, 100, size=20)})\n",
    "print(\"Original DataFrame:\")\n",
    "print(df)\n",
    "\n",
    "pivot_table = df.pivot_table(values='Value', index='Date', columns='Category', aggfunc='sum')\n",
    "print(\"Pivot Table:\")\n",
    "print(pivot_table)"
   ]
  },
  {
   "cell_type": "markdown",
   "id": "307b59ee",
   "metadata": {},
   "source": [
    "2. Create a Pandas DataFrame with columns 'Year', 'Quarter', and 'Revenue'. Create a pivot table to compute the mean 'Revenue' for each 'Quarter' by 'Year'."
   ]
  },
  {
   "cell_type": "code",
   "execution_count": 21,
   "id": "af5753f0",
   "metadata": {},
   "outputs": [
    {
     "name": "stdout",
     "output_type": "stream",
     "text": [
      "Original DataFrame:\n",
      "    Year Quarter  Revenue\n",
      "0   2020      Q2      457\n",
      "1   2020      Q2      965\n",
      "2   2020      Q3      471\n",
      "3   2020      Q3      626\n",
      "4   2021      Q2      620\n",
      "5   2020      Q1      248\n",
      "6   2021      Q3      451\n",
      "7   2020      Q3      233\n",
      "8   2020      Q2      707\n",
      "9   2022      Q1      964\n",
      "10  2020      Q3      867\n",
      "11  2021      Q1      994\n",
      "Pivot Table:\n",
      "Quarter     Q1          Q2      Q3\n",
      "Year                              \n",
      "2020     248.0  709.666667  549.25\n",
      "2021     994.0  620.000000  451.00\n",
      "2022     964.0         NaN     NaN\n"
     ]
    }
   ],
   "source": [
    "df = pd.DataFrame({'Year': np.random.choice([2020, 2021, 2022], size=12), 'Quarter': np.random.choice(['Q1', 'Q2', 'Q3', 'Q4'], size=12), 'Revenue': np.random.randint(1, 1000, size=12)})\n",
    "print(\"Original DataFrame:\")\n",
    "print(df)\n",
    "\n",
    "pivot_table = df.pivot_table(values='Revenue', index='Year', columns='Quarter', aggfunc='mean')\n",
    "print(\"Pivot Table:\")\n",
    "print(pivot_table)"
   ]
  },
  {
   "cell_type": "markdown",
   "id": "b95871de",
   "metadata": {},
   "source": [
    "### Assignment 9: Applying Functions\n",
    "\n",
    "1. Create a Pandas DataFrame with 3 columns and 5 rows filled with random integers. Apply a function that doubles the values of the DataFrame."
   ]
  },
  {
   "cell_type": "code",
   "execution_count": 22,
   "id": "73117956",
   "metadata": {},
   "outputs": [
    {
     "name": "stdout",
     "output_type": "stream",
     "text": [
      "Original DataFrame:\n",
      "    A   B   C\n",
      "0  58  25  22\n",
      "1  48  56  60\n",
      "2   1  99  59\n",
      "3  16  97  92\n",
      "4  77  36  75\n",
      "Doubled DataFrame:\n",
      "     A    B    C\n",
      "0  116   50   44\n",
      "1   96  112  120\n",
      "2    2  198  118\n",
      "3   32  194  184\n",
      "4  154   72  150\n"
     ]
    }
   ],
   "source": [
    "df = pd.DataFrame(np.random.randint(1, 100, size=(5, 3)), columns=['A', 'B', 'C'])\n",
    "print(\"Original DataFrame:\")\n",
    "print(df)\n",
    "\n",
    "df_doubled = df.applymap(lambda x: x * 2)\n",
    "print(\"Doubled DataFrame:\")\n",
    "print(df_doubled)"
   ]
  },
  {
   "cell_type": "markdown",
   "id": "b64a0628",
   "metadata": {},
   "source": [
    "2. Create a Pandas DataFrame with 3 columns and 6 rows filled with random integers. Apply a lambda function to create a new column that is the sum of the existing columns."
   ]
  },
  {
   "cell_type": "code",
   "execution_count": 23,
   "id": "03b869bf",
   "metadata": {},
   "outputs": [
    {
     "name": "stdout",
     "output_type": "stream",
     "text": [
      "Original DataFrame:\n",
      "    A   B   C\n",
      "0  76  69  78\n",
      "1  33  79  16\n",
      "2  38  64  42\n",
      "3  60  48  98\n",
      "4  90  62  44\n",
      "5  82   3  51\n",
      "DataFrame with Sum column:\n",
      "    A   B   C  Sum\n",
      "0  76  69  78  223\n",
      "1  33  79  16  128\n",
      "2  38  64  42  144\n",
      "3  60  48  98  206\n",
      "4  90  62  44  196\n",
      "5  82   3  51  136\n"
     ]
    }
   ],
   "source": [
    "df = pd.DataFrame(np.random.randint(1, 100, size=(6, 3)), columns=['A', 'B', 'C'])\n",
    "print(\"Original DataFrame:\")\n",
    "print(df)\n",
    "\n",
    "df['Sum'] = df.apply(lambda row: row.sum(), axis=1)\n",
    "print(\"DataFrame with Sum column:\")\n",
    "print(df)"
   ]
  },
  {
   "cell_type": "markdown",
   "id": "acebfc51",
   "metadata": {},
   "source": [
    "### Assignment 10: Working with Text Data\n",
    "\n",
    "1. Create a Pandas Series with 5 random text strings. Convert all the strings to uppercase."
   ]
  },
  {
   "cell_type": "code",
   "execution_count": 24,
   "id": "fda3e622",
   "metadata": {},
   "outputs": [
    {
     "name": "stdout",
     "output_type": "stream",
     "text": [
      "Original Series:\n",
      "0         apple\n",
      "1        banana\n",
      "2        cherry\n",
      "3          date\n",
      "4    elderberry\n",
      "dtype: object\n",
      "Uppercase Series:\n",
      "0         APPLE\n",
      "1        BANANA\n",
      "2        CHERRY\n",
      "3          DATE\n",
      "4    ELDERBERRY\n",
      "dtype: object\n"
     ]
    }
   ],
   "source": [
    "text_data = pd.Series(['apple', 'banana', 'cherry', 'date', 'elderberry'])\n",
    "print(\"Original Series:\")\n",
    "print(text_data)\n",
    "\n",
    "uppercase_data = text_data.str.upper()\n",
    "print(\"Uppercase Series:\")\n",
    "print(uppercase_data)"
   ]
  },
  {
   "cell_type": "markdown",
   "id": "79e66ec4",
   "metadata": {},
   "source": [
    "2. Create a Pandas Series with 5 random text strings. Extract the first three characters of each string."
   ]
  },
  {
   "cell_type": "code",
   "execution_count": 25,
   "id": "1c58ec82",
   "metadata": {},
   "outputs": [
    {
     "name": "stdout",
     "output_type": "stream",
     "text": [
      "Original Series:\n",
      "0         apple\n",
      "1        banana\n",
      "2        cherry\n",
      "3          date\n",
      "4    elderberry\n",
      "dtype: object\n",
      "First three characters:\n",
      "0    app\n",
      "1    ban\n",
      "2    che\n",
      "3    dat\n",
      "4    eld\n",
      "dtype: object\n"
     ]
    }
   ],
   "source": [
    "text_data = pd.Series(['apple', 'banana', 'cherry', 'date', 'elderberry'])\n",
    "print(\"Original Series:\")\n",
    "print(text_data)\n",
    "\n",
    "first_three_chars = text_data.str[:3]\n",
    "print(\"First three characters:\")\n",
    "print(first_three_chars)"
   ]
  }
 ],
 "metadata": {
  "kernelspec": {
   "display_name": "base",
   "language": "python",
   "name": "python3"
  },
  "language_info": {
   "codemirror_mode": {
    "name": "ipython",
    "version": 3
   },
   "file_extension": ".py",
   "mimetype": "text/x-python",
   "name": "python",
   "nbconvert_exporter": "python",
   "pygments_lexer": "ipython3",
   "version": "3.8.8"
  }
 },
 "nbformat": 4,
 "nbformat_minor": 5
}
