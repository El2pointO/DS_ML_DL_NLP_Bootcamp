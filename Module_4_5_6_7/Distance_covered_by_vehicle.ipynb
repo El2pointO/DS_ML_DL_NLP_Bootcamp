{
 "cells": [
  {
   "cell_type": "markdown",
   "metadata": {},
   "source": [
    "Problem Description:\n",
    "\n",
    "You are given the speed of a vehicle and the time it has traveled. Your task is to compute and return the distance traveled by the vehicle.\n",
    "\n",
    "Formula:\n",
    "\n",
    "To calculate the distance traveled by a vehicle:\n",
    "\n",
    "* Distance=Speed×Time"
   ]
  },
  {
   "cell_type": "code",
   "execution_count": 1,
   "metadata": {},
   "outputs": [],
   "source": [
    "def calculate_distance(speed, time):\n",
    "    # Your code here\n",
    "    return speed * time\n",
    "\n",
    "    speed = float(input(\"speed of the vehicle: \"))\n",
    "    time = float(input(\"time traveled: \"))\n",
    "    \n",
    "    print(f\"Distance traveled: {calculate_distance(speed, time)} km\")"
   ]
  }
 ],
 "metadata": {
  "kernelspec": {
   "display_name": "base",
   "language": "python",
   "name": "python3"
  },
  "language_info": {
   "codemirror_mode": {
    "name": "ipython",
    "version": 3
   },
   "file_extension": ".py",
   "mimetype": "text/x-python",
   "name": "python",
   "nbconvert_exporter": "python",
   "pygments_lexer": "ipython3",
   "version": "3.8.8"
  }
 },
 "nbformat": 4,
 "nbformat_minor": 2
}
