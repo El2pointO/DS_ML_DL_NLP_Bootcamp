{
 "cells": [
  {
   "cell_type": "markdown",
   "metadata": {},
   "source": [
    "Problem Description\n",
    "\n",
    "Sum of List Elements\n",
    "\n",
    "Write a Python function that calculates the sum of all elements in a given list of integers.\n",
    "\n",
    "Parameters:\n",
    "\n",
    "numbers (List of integers): The input list containing integers.\n",
    "\n",
    "Returns:\n",
    "\n",
    "An integer representing the sum of all elements in the input list."
   ]
  },
  {
   "cell_type": "code",
   "execution_count": 1,
   "metadata": {},
   "outputs": [],
   "source": [
    "def sum_list(numbers):\n",
    "    sum_total = 0\n",
    "    for sums in numbers:\n",
    "        sum_total += sums\n",
    "    \n",
    "    return sum_total"
   ]
  }
 ],
 "metadata": {
  "kernelspec": {
   "display_name": "base",
   "language": "python",
   "name": "python3"
  },
  "language_info": {
   "codemirror_mode": {
    "name": "ipython",
    "version": 3
   },
   "file_extension": ".py",
   "mimetype": "text/x-python",
   "name": "python",
   "nbconvert_exporter": "python",
   "pygments_lexer": "ipython3",
   "version": "3.8.8"
  }
 },
 "nbformat": 4,
 "nbformat_minor": 2
}
