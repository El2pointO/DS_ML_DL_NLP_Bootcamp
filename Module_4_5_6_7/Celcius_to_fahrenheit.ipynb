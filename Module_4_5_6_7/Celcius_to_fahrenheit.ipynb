{
 "cells": [
  {
   "cell_type": "markdown",
   "metadata": {},
   "source": [
    "# Problem Description:\n",
    "\n",
    "You are given a temperature in Celsius. Your task is to convert it to Fahrenheit and return the result.\n",
    "\n",
    "Formula:\n",
    "\n",
    "To convert Celsius to Fahrenheit, use the formula:\n",
    "\n",
    "* F = (9/5 * C) + 32\n",
    "\n",
    "Where F is the temperature in Fahrenheit and C is the temperature in Celsius"
   ]
  },
  {
   "cell_type": "code",
   "execution_count": 1,
   "metadata": {},
   "outputs": [
    {
     "data": {
      "text/plain": [
       "32.0"
      ]
     },
     "execution_count": 1,
     "metadata": {},
     "output_type": "execute_result"
    }
   ],
   "source": [
    "def celsius_to_fahrenheit(C):\n",
    "    fahrenheit = (9/5 * C) + 32\n",
    "    return fahrenheit\n",
    "    \n",
    "C = float()\n",
    "celsius_to_fahrenheit(C)"
   ]
  }
 ],
 "metadata": {
  "kernelspec": {
   "display_name": "base",
   "language": "python",
   "name": "python3"
  },
  "language_info": {
   "codemirror_mode": {
    "name": "ipython",
    "version": 3
   },
   "file_extension": ".py",
   "mimetype": "text/x-python",
   "name": "python",
   "nbconvert_exporter": "python",
   "pygments_lexer": "ipython3",
   "version": "3.8.8"
  }
 },
 "nbformat": 4,
 "nbformat_minor": 2
}
