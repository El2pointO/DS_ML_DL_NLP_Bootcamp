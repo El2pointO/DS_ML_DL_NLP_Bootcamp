{
 "cells": [
  {
   "cell_type": "markdown",
   "metadata": {},
   "source": [
    "Merge Three Dictionaries\n",
    "\n",
    "Design a Python function named merge_three_dictionaries to merge exactly three dictionaries into one.\n",
    "\n",
    "Parameters:\n",
    "\n",
    "dict1 (Dictionary): The first dictionary to be merged.\n",
    "\n",
    "dict2 (Dictionary): The second dictionary to be merged.\n",
    "\n",
    "dict3 (Dictionary): The third dictionary to be merged.\n",
    "\n",
    "Returns:\n",
    "\n",
    "A single dictionary containing all key-value pairs from the three input dictionaries."
   ]
  },
  {
   "cell_type": "code",
   "execution_count": 1,
   "metadata": {},
   "outputs": [],
   "source": [
    "def merge_three_dictionaries(dict1, dict2, dict3):\n",
    "    max_len = max(len(dict1),len(dict2),len(dict3))\n",
    "    dict_new = {}\n",
    "    for i in range(max_len):\n",
    "        dict_new.update(dict1)\n",
    "        dict_new.update(dict2)\n",
    "        dict_new.update(dict3)\n",
    "    return dict_new"
   ]
  }
 ],
 "metadata": {
  "kernelspec": {
   "display_name": "base",
   "language": "python",
   "name": "python3"
  },
  "language_info": {
   "codemirror_mode": {
    "name": "ipython",
    "version": 3
   },
   "file_extension": ".py",
   "mimetype": "text/x-python",
   "name": "python",
   "nbconvert_exporter": "python",
   "pygments_lexer": "ipython3",
   "version": "3.8.8"
  }
 },
 "nbformat": 4,
 "nbformat_minor": 2
}
