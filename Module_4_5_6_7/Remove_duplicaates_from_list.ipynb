{
 "cells": [
  {
   "cell_type": "markdown",
   "metadata": {},
   "source": [
    "Remove Duplicates from a List\n",
    "\n",
    "You are given a list of integers. Write a Python program that removes any duplicate elements from the list and returns a new list with only unique elements. The order of elements in the list should be maintained.\n",
    "\n",
    "Parameters:\n",
    "\n",
    "lst (List of integers): The list of integers from which duplicates should be removed.\n",
    "\n",
    "Returns:\n",
    "\n",
    "A list of integers where all duplicates have been removed, preserving the original order."
   ]
  },
  {
   "cell_type": "code",
   "execution_count": 1,
   "metadata": {},
   "outputs": [],
   "source": [
    "def remove_duplicates(lst):\n",
    "    unique = []\n",
    "    for nums in lst:\n",
    "        if nums not in unique:\n",
    "            unique.append(nums)\n",
    "    return unique\n"
   ]
  }
 ],
 "metadata": {
  "kernelspec": {
   "display_name": "base",
   "language": "python",
   "name": "python3"
  },
  "language_info": {
   "codemirror_mode": {
    "name": "ipython",
    "version": 3
   },
   "file_extension": ".py",
   "mimetype": "text/x-python",
   "name": "python",
   "nbconvert_exporter": "python",
   "pygments_lexer": "ipython3",
   "version": "3.8.8"
  }
 },
 "nbformat": 4,
 "nbformat_minor": 2
}
