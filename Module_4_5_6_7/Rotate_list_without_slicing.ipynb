{
 "cells": [
  {
   "cell_type": "markdown",
   "metadata": {},
   "source": [
    "Rotate a List (Without Slicing)\n",
    "\n",
    "You are given a list of integers and an integer k. Write a Python function to rotate the list to the right by k positions without using slicing. A rotation shifts elements from the end of the list to the front.\n",
    "\n",
    "Parameters:\n",
    "\n",
    "lst (List of integers): The list to be rotated.\n",
    "\n",
    "k (Integer): The number of positions to rotate the list.\n",
    "\n",
    "Returns:\n",
    "\n",
    "A list of integers rotated by k positions."
   ]
  },
  {
   "cell_type": "code",
   "execution_count": 1,
   "metadata": {},
   "outputs": [],
   "source": [
    "def rotate_list(lst, k):\n",
    "    if not lst :\n",
    "        return lst \n",
    "    k% len(lst)\n",
    "    for _ in range(k):\n",
    "        last_elemnt = lst.pop()\n",
    "        lst.insert(0,last_elemnt)\n",
    "    return lst"
   ]
  }
 ],
 "metadata": {
  "kernelspec": {
   "display_name": "base",
   "language": "python",
   "name": "python3"
  },
  "language_info": {
   "codemirror_mode": {
    "name": "ipython",
    "version": 3
   },
   "file_extension": ".py",
   "mimetype": "text/x-python",
   "name": "python",
   "nbconvert_exporter": "python",
   "pygments_lexer": "ipython3",
   "version": "3.8.8"
  }
 },
 "nbformat": 4,
 "nbformat_minor": 2
}
