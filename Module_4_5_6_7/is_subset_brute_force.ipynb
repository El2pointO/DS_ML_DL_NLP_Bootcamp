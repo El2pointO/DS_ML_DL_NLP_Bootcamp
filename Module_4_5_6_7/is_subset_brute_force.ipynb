{
 "cells": [
  {
   "cell_type": "markdown",
   "metadata": {},
   "source": [
    "Check if a List is a Subset of Another List (Brute Force Approach)\n",
    "\n",
    "You are given two lists of integers. Write a Python program that checks whether the first list is a subset of the second list using a brute-force approach, without using the in keyword. A list is considered a subset if all elements of the first list are present in the second list.\n",
    "\n",
    "Parameters:\n",
    "\n",
    "lst1 (List of integers): The first list, which is being checked as a subset.\n",
    "\n",
    "lst2 (List of integers): The second list, which is the list to compare against.\n",
    "\n",
    "Returns:\n",
    "\n",
    "A boolean value True if lst1 is a subset of lst2, otherwise False."
   ]
  },
  {
   "cell_type": "code",
   "execution_count": 1,
   "metadata": {},
   "outputs": [],
   "source": [
    "def is_subset(lst1, lst2):\n",
    "    for num in lst1:\n",
    "        found = False\n",
    "        for nums in lst2:\n",
    "            if num == nums:\n",
    "                found = True\n",
    "        if not found:\n",
    "            return False\n",
    "    return True\n",
    "        \n"
   ]
  }
 ],
 "metadata": {
  "kernelspec": {
   "display_name": "base",
   "language": "python",
   "name": "python3"
  },
  "language_info": {
   "codemirror_mode": {
    "name": "ipython",
    "version": 3
   },
   "file_extension": ".py",
   "mimetype": "text/x-python",
   "name": "python",
   "nbconvert_exporter": "python",
   "pygments_lexer": "ipython3",
   "version": "3.8.8"
  }
 },
 "nbformat": 4,
 "nbformat_minor": 2
}
